{
 "cells": [
  {
   "attachments": {},
   "cell_type": "markdown",
   "metadata": {},
   "source": [
    "### Hi Im Dhiraj a Masters in Data Science stuident (UHID: 2216950)\n",
    "#### In this IPYNB file we can look into various web scrapping from websites like linkedin and market watch tables of major indexes around world,highest gainer stocks and other tables related to the market\n",
    "#### Using Selenium automation and beautifulsoup\n",
    "\n",
    "### To run the code please enter credentials for username and pwd of linkedin the output is shown when i entered my credentials, I stored my credentials as os enviromental variables for data privacy"
   ]
  },
  {
   "cell_type": "code",
   "execution_count": 46,
   "metadata": {},
   "outputs": [
    {
     "name": "stderr",
     "output_type": "stream",
     "text": [
      "C:\\Users\\gonga\\AppData\\Local\\Temp\\ipykernel_1716\\3803766384.py:7: DeprecationWarning: executable_path has been deprecated, please pass in a Service object\n",
      "  driver = webdriver.Chrome(\"Enter-Location-Of-Your-Web-Driver\")\n"
     ]
    },
    {
     "name": "stdout",
     "output_type": "stream",
     "text": [
      "<div class=\"pv-text-details__left-panel\">\n",
      "<div>\n",
      "<h1 class=\"text-heading-xlarge inline t-24 v-align-middle break-words\">Dhiraj Kumar Reddy Gongati</h1>\n",
      "<!-- -->\n",
      "<span class=\"text-body-small v-align-middle break-words t-black--light\">\n",
      "     (He/Him)\n",
      "  </span>\n",
      "<!-- --><!-- --> </div>\n",
      "<!-- --> <div class=\"text-body-medium break-words\" data-generated-suggestion-target=\"urn:li:fsu_profileActionDelegate:-632745943\">\n",
      "      --Masters in Data Science\n",
      "    </div>\n",
      "<!-- --><!-- --><!-- --> </div>\n",
      "<div class=\"inline-show-more-text inline-show-more-text--is-collapsed inline-show-more-text--is-collapsed-with-line-clamp full-width\" style=\"-webkit-line-clamp:4;\" tabindex=\"-1\">\n",
      "<span aria-hidden=\"true\"><!-- -->•\tI am a curious and ML enthusiastic person with 2 years of work experience and on-hand experience in<span class=\"white-space-pre\"> </span><br/><!-- -->handling ML-based projects and their deployments.<!-- --><br/><!-- -->•\tI am well experienced with SQL, Python and its libraries, and interactive Dashboards using Power BI.<!-- --><br/><!-- -->•\tDuring my tenure at “Capgemini”, I was enrolled in a hackathon conducted by the SAP AI division on “Customer duplicity” (unique to our team) use case. My team was awarded the 1st runner-up in the hackathon.<!-- --><br/><!-- -->•\tI seek to leverage my coding, communication skills, synergy with other team members, and knowledge from my previous tenures to increase profitability for organizations.<!-- --></span><span class=\"visually-hidden\"><!-- -->•\tI am a curious and ML enthusiastic person with 2 years of work experience and on-hand experience in \n",
      "handling ML-based projects and their deployments.\n",
      "•\tI am well experienced with SQL, Python and its libraries, and interactive Dashboards using Power BI.\n",
      "•\tDuring my tenure at “Capgemini”, I was enrolled in a hackathon conducted by the SAP AI division on “Customer duplicity” (unique to our team) use case. My team was awarded the 1st runner-up in the hackathon.\n",
      "•\tI seek to leverage my coding, communication skills, synergy with other team members, and knowledge from my previous tenures to increase profitability for organizations.<!-- --></span>\n",
      "<span class=\"inline-show-more-text__link-container-collapsed\">\n",
      "<!-- --> <button aria-expanded=\"false\" class=\"inline-show-more-text__button inline-show-more-text__button--light link\" type=\"button\">\n",
      "          …see more\n",
      "        </button>\n",
      "</span>\n",
      "<!-- --></div>\n",
      "<div class=\"pvs-entity pvs-entity--padded pvs-list__item--no-padding-in-columns\">\n",
      "<div>\n",
      "<a aria-hidden=\"true\" class=\"optional-action-target-wrapper display-flex\" data-field=\"insights_wvmp\" href=\"https://www.linkedin.com/me/profile-views\" tabindex=\"-1\" target=\"_self\">\n",
      "<!-- -->\n",
      "<div class=\"ivm-image-view-model pvs-entity__image\">\n",
      "<div class=\"ivm-view-attr__img-wrapper ivm-view-attr__img-wrapper--use-img-tag display-flex\">\n",
      "<li-icon aria-hidden=\"true\" class=\"ivm-view-attr__icon--icon\" size=\"large\" type=\"people\"><svg class=\"mercado-match\" data-supported-dps=\"24x24\" fill=\"currentColor\" focusable=\"false\" height=\"24\" viewbox=\"0 0 24 24\" width=\"24\" xmlns=\"http://www.w3.org/2000/svg\">\n",
      "<path d=\"M12 16v6H3v-6a3 3 0 013-3h3a3 3 0 013 3zm5.5-3A3.5 3.5 0 1014 9.5a3.5 3.5 0 003.5 3.5zm1 2h-2a2.5 2.5 0 00-2.5 2.5V22h7v-4.5a2.5 2.5 0 00-2.5-2.5zM7.5 2A4.5 4.5 0 1012 6.5 4.49 4.49 0 007.5 2z\"></path>\n",
      "</svg></li-icon>\n",
      "</div>\n",
      "</div>\n",
      "</a>\n",
      "</div>\n",
      "<div class=\"display-flex flex-column full-width align-self-center\">\n",
      "<div class=\"display-flex flex-row justify-space-between\">\n",
      "<a class=\"optional-action-target-wrapper display-flex flex-column full-width\" data-field=\"insights_wvmp\" href=\"https://www.linkedin.com/me/profile-views\" target=\"_self\">\n",
      "<div class=\"display-flex flex-wrap align-items-center full-height\">\n",
      "<span class=\"mr1 hoverable-link-text t-bold\">\n",
      "<span aria-hidden=\"true\"><!-- -->75 profile views<!-- --></span><span class=\"visually-hidden\"><!-- -->75 profile views<!-- --></span>\n",
      "</span>\n",
      "<!-- --><!-- --><!-- --> </div>\n",
      "<span class=\"t-14 t-normal\">\n",
      "<span aria-hidden=\"true\"><!-- -->Discover who's viewed your profile.<!-- --></span><span class=\"visually-hidden\"><!-- -->Discover who's viewed your profile.<!-- --></span>\n",
      "</span>\n",
      "<!-- --><!-- --> </a>\n",
      "<!-- -->\n",
      "<div class=\"pvs-entity__action-container\">\n",
      "<!-- --> </div>\n",
      "</div>\n",
      "<!-- --> </div>\n",
      "</div>\n"
     ]
    }
   ],
   "source": [
    "from selenium import webdriver\n",
    "from selenium.webdriver.common.by import By\n",
    "from bs4 import BeautifulSoup\n",
    "import time\n",
    "\n",
    "# Creating a webdriver instance\n",
    "driver = webdriver.Chrome(\"Enter-Location-Of-Your-Web-Driver\")\n",
    "# This instance will be used to log into LinkedIn\n",
    "\n",
    "# Opening linkedIn's login page\n",
    "driver.get(\"https://linkedin.com/uas/login\")\n",
    "\n",
    "# waiting for the page to load\n",
    "time.sleep(5)\n",
    "\n",
    "# entering username\n",
    "username = driver.find_element(By.ID, \"username\")\n",
    "\n",
    "# In case of an error, try changing the element\n",
    "# tag used here.\n",
    "\n",
    "# Enter Your Email Address\n",
    "username.send_keys(\"\")\n",
    "\n",
    "# entering password\n",
    "pword = driver.find_element(By.ID, \"password\")\n",
    "# In case of an error, try changing the element\n",
    "# tag used here.\n",
    "\n",
    "# Enter Your Password\n",
    "pword.send_keys(\"\")\t\n",
    "\n",
    "# Clicking on the log in button\n",
    "# //tagname[@attribute='value']\n",
    "driver.find_element(By.XPATH, \"//button[@type='submit']\").click()\n",
    "# XPath used here.\n",
    "\n",
    "# Opening Kunal's Profile\n",
    "# paste the URL of Kunal's profile here\n",
    "profile_url = \"https://www.linkedin.com/in/dhirajgongati/\"\n",
    "\n",
    "driver.get(profile_url)\t # this will open the link\n",
    "\n",
    "# will be used in the while loop\n",
    "initialScroll = 0\n",
    "finalScroll = 1000\n",
    " \n",
    "while True:\n",
    "    driver.execute_script(f\"window.scrollTo({initialScroll},{finalScroll})\")\n",
    "    # this command scrolls the window starting from\n",
    "    # finalScroll variable\n",
    "    initialScroll = finalScroll\n",
    "    finalScroll += 1000\n",
    " \n",
    "    # we will stop the script for 3 seconds for the data to load\n",
    "    time.sleep(3)\n",
    "    if finalScroll>5000:\n",
    "        break\n",
    "\n",
    "src = driver.page_source\n",
    "\n",
    "# Now using beautiful soup\n",
    "soup = BeautifulSoup(src, 'lxml')\n",
    "\n",
    "# Extracting the HTML of the complete introduction box\n",
    "# that contains the name and headings\n",
    "intro = soup.find('div', {'class': 'pv-text-details__left-panel'})\n",
    "\n",
    "print(intro)\n",
    "\n",
    "\n",
    "\n",
    "about = soup.find(\"div\", {'class': 'inline-show-more-text inline-show-more-text--is-collapsed inline-show-more-text--is-collapsed-with-line-clamp full-width'})\n",
    " \n",
    "print(about)\n",
    "\n",
    "experience = soup.find(\"div\", {'class': 'pvs-entity pvs-entity--padded pvs-list__item--no-padding-in-columns'})\n",
    "\n",
    "print(experience)\n",
    "    \n",
    "    \n",
    "\n",
    "\n"
   ]
  },
  {
   "cell_type": "code",
   "execution_count": 72,
   "metadata": {},
   "outputs": [
    {
     "name": "stdout",
     "output_type": "stream",
     "text": [
      "Name --> Dhiraj Kumar Reddy Gongati \n",
      "Works At --> --Masters in Data Science\n"
     ]
    }
   ],
   "source": [
    "# In case of an error, try changing the tags used here.\n",
    "\n",
    "name_loc = intro.find(\"h1\")\n",
    "\n",
    "# Extracting the Name\n",
    "name = name_loc.get_text().strip()\n",
    "# strip() is used to remove any extra blank spaces\n",
    "\n",
    "tag = intro.find(\"div\", {'class': 'text-body-medium'})\n",
    "\n",
    "# this gives us the HTML of the tag in which the Company Name is present\n",
    "# Extracting the Company Name\n",
    "tag = tag.get_text().strip()\n",
    "\n",
    "\n",
    "print(\"Name -->\", name,\n",
    "\t\"\\nWorks At -->\", tag)"
   ]
  },
  {
   "cell_type": "code",
   "execution_count": 73,
   "metadata": {},
   "outputs": [
    {
     "name": "stdout",
     "output_type": "stream",
     "text": [
      "About:\n",
      "•\tI am a curious and ML enthusiastic person with 2 years of work experience and on-hand experience in handling ML-based projects and their deployments.•\tI am well experienced with SQL, Python and its libraries, and interactive Dashboards using Power BI.•\tDuring my tenure at “Capgemini”, I was enrolled in a hackathon conducted by the SAP AI division on “Customer duplicity” (unique to our team) use case. My team was awarded the 1st runner-up in the hackathon.•\tI seek to leverage my coding, communication skills, synergy with other team members, and knowledge from my previous tenures to increase profitability for organizations.•\tI am a curious and ML enthusiastic person with 2 years of work experience and on-hand experience in \n",
      "handling ML-based projects and their deployments.\n",
      "•\tI am well experienced with SQL, Python and its libraries, and interactive Dashboards using Power BI.\n",
      "•\tDuring my tenure at “Capgemini”, I was enrolled in a hackathon conducted by the SAP AI division on “Customer duplicity” (unique to our team) use case. My team was awarded the 1st runner-up in the hackathon.\n",
      "•\tI seek to leverage my coding, communication skills, synergy with other team members, and knowledge from my previous tenures to increase profitability for organizations.\n",
      "\n",
      " \n",
      "          …see more\n"
     ]
    }
   ],
   "source": [
    "# Getting the HTML of the About section in the profile\n",
    "\n",
    "about_part1 = about.get_text().strip()\n",
    "    \n",
    "    \n",
    "print(\"About:\") \n",
    "print(about_part1)"
   ]
  },
  {
   "cell_type": "code",
   "execution_count": 74,
   "metadata": {},
   "outputs": [
    {
     "name": "stdout",
     "output_type": "stream",
     "text": [
      "Recent Experience:\n",
      "\n",
      "Data AnalystData Analyst\n",
      "\n",
      " \n",
      "\n",
      "Capgemini · Full-timeCapgemini · Full-time\n",
      "\n",
      "\n",
      "Jun 2021 - Aug 2022 · 1 yr 3 mosJun 2021 - Aug 2022 · 1 yr 3 mos\n",
      "\n",
      "\n",
      "Bengaluru, Karnataka, IndiaBengaluru, Karnataka, India\n"
     ]
    }
   ],
   "source": [
    "# Getting the HTML of the Experience section in the profile\n",
    "experience = soup.find(\"div\", {'class': 'display-flex flex-column full-width'})\n",
    "\n",
    "exp_1 = experience.get_text().strip()\n",
    "    \n",
    "    \n",
    "print(\"Recent Experience:\\n\") \n",
    "print(exp_1)\n",
    "\n",
    "    "
   ]
  },
  {
   "cell_type": "code",
   "execution_count": 77,
   "metadata": {},
   "outputs": [
    {
     "data": {
      "text/html": [
       "<div>\n",
       "<style scoped>\n",
       "    .dataframe tbody tr th:only-of-type {\n",
       "        vertical-align: middle;\n",
       "    }\n",
       "\n",
       "    .dataframe tbody tr th {\n",
       "        vertical-align: top;\n",
       "    }\n",
       "\n",
       "    .dataframe thead th {\n",
       "        text-align: right;\n",
       "    }\n",
       "</style>\n",
       "<table border=\"1\" class=\"dataframe\">\n",
       "  <thead>\n",
       "    <tr style=\"text-align: right;\">\n",
       "      <th></th>\n",
       "      <th>URL</th>\n",
       "      <th>Name</th>\n",
       "      <th>Tag</th>\n",
       "      <th>Recent Work Experience</th>\n",
       "      <th>About</th>\n",
       "    </tr>\n",
       "  </thead>\n",
       "  <tbody>\n",
       "    <tr>\n",
       "      <th>0</th>\n",
       "      <td>https://www.linkedin.com/in/dhirajgongati/</td>\n",
       "      <td>Dhiraj Kumar Reddy Gongati</td>\n",
       "      <td>--Masters in Data Science</td>\n",
       "      <td>Data AnalystData Analyst\\n\\n \\n\\nCapgemini · F...</td>\n",
       "      <td>•\\tI am a curious and ML enthusiastic person w...</td>\n",
       "    </tr>\n",
       "  </tbody>\n",
       "</table>\n",
       "</div>"
      ],
      "text/plain": [
       "                                          URL                        Name   \n",
       "0  https://www.linkedin.com/in/dhirajgongati/  Dhiraj Kumar Reddy Gongati  \\\n",
       "\n",
       "                         Tag   \n",
       "0  --Masters in Data Science  \\\n",
       "\n",
       "                              Recent Work Experience   \n",
       "0  Data AnalystData Analyst\\n\\n \\n\\nCapgemini · F...  \\\n",
       "\n",
       "                                               About  \n",
       "0  •\\tI am a curious and ML enthusiastic person w...  "
      ]
     },
     "execution_count": 77,
     "metadata": {},
     "output_type": "execute_result"
    }
   ],
   "source": [
    "#convert data into data frame\n",
    "import pandas as pd\n",
    "df=pd.DataFrame(columns=[\"URL\",\"Name\",\"Tag\",\"Recent Work Experience\",\"About\"])\n",
    "df.loc[0,:]=profile_url,name,tag ,exp_1,about_part1\n",
    "df"
   ]
  },
  {
   "attachments": {},
   "cell_type": "markdown",
   "metadata": {},
   "source": [
    "## Lets also see How we can pull tabular data from webseites and perform few visualizations on them"
   ]
  },
  {
   "cell_type": "code",
   "execution_count": 86,
   "metadata": {},
   "outputs": [],
   "source": [
    "# Scrapping tabular data from URL like stock prices etc\n",
    "URL = 'https://www.marketwatch.com/market-data/us'\n",
    "dfs = pd.read_html(URL)"
   ]
  },
  {
   "cell_type": "code",
   "execution_count": 131,
   "metadata": {},
   "outputs": [
    {
     "data": {
      "text/html": [
       "<div>\n",
       "<style scoped>\n",
       "    .dataframe tbody tr th:only-of-type {\n",
       "        vertical-align: middle;\n",
       "    }\n",
       "\n",
       "    .dataframe tbody tr th {\n",
       "        vertical-align: top;\n",
       "    }\n",
       "\n",
       "    .dataframe thead th {\n",
       "        text-align: right;\n",
       "    }\n",
       "</style>\n",
       "<table border=\"1\" class=\"dataframe\">\n",
       "  <thead>\n",
       "    <tr style=\"text-align: right;\">\n",
       "      <th></th>\n",
       "      <th>Name</th>\n",
       "      <th>Last</th>\n",
       "      <th>Chg</th>\n",
       "      <th>Chg %</th>\n",
       "    </tr>\n",
       "  </thead>\n",
       "  <tbody>\n",
       "    <tr>\n",
       "      <th>0</th>\n",
       "      <td>Dow Jones Industrial Average</td>\n",
       "      <td>33535.91</td>\n",
       "      <td>115.14</td>\n",
       "      <td>0.34%</td>\n",
       "    </tr>\n",
       "    <tr>\n",
       "      <th>1</th>\n",
       "      <td>NASDAQ Composite Index</td>\n",
       "      <td>12688.84</td>\n",
       "      <td>188.27</td>\n",
       "      <td>1.51%</td>\n",
       "    </tr>\n",
       "    <tr>\n",
       "      <th>2</th>\n",
       "      <td>S&amp;P 500 Index</td>\n",
       "      <td>4198.05</td>\n",
       "      <td>39.28</td>\n",
       "      <td>0.94%</td>\n",
       "    </tr>\n",
       "    <tr>\n",
       "      <th>3</th>\n",
       "      <td>Global Dow Realtime USD</td>\n",
       "      <td>3939.84</td>\n",
       "      <td>16.85</td>\n",
       "      <td>0.43%</td>\n",
       "    </tr>\n",
       "    <tr>\n",
       "      <th>4</th>\n",
       "      <td>Gold Continuous Contract</td>\n",
       "      <td>$1,959.80</td>\n",
       "      <td>-25.10</td>\n",
       "      <td>-1.26%</td>\n",
       "    </tr>\n",
       "    <tr>\n",
       "      <th>5</th>\n",
       "      <td>Crude Oil WTI (NYM $/bbl) Front Month</td>\n",
       "      <td>$72.00</td>\n",
       "      <td>-0.83</td>\n",
       "      <td>-1.14%</td>\n",
       "    </tr>\n",
       "  </tbody>\n",
       "</table>\n",
       "</div>"
      ],
      "text/plain": [
       "                                    Name       Last     Chg   Chg %\n",
       "0           Dow Jones Industrial Average   33535.91  115.14   0.34%\n",
       "1                 NASDAQ Composite Index   12688.84  188.27   1.51%\n",
       "2                          S&P 500 Index    4198.05   39.28   0.94%\n",
       "3                Global Dow Realtime USD    3939.84   16.85   0.43%\n",
       "4               Gold Continuous Contract  $1,959.80  -25.10  -1.26%\n",
       "5  Crude Oil WTI (NYM $/bbl) Front Month     $72.00   -0.83  -1.14%"
      ]
     },
     "execution_count": 131,
     "metadata": {},
     "output_type": "execute_result"
    }
   ],
   "source": [
    "df=dfs[0]\n",
    "df=df.drop([1],axis=0).reset_index().drop([\"index\"],axis=1)\n",
    "df"
   ]
  },
  {
   "cell_type": "code",
   "execution_count": 132,
   "metadata": {},
   "outputs": [
    {
     "data": {
      "text/html": [
       "<div>\n",
       "<style scoped>\n",
       "    .dataframe tbody tr th:only-of-type {\n",
       "        vertical-align: middle;\n",
       "    }\n",
       "\n",
       "    .dataframe tbody tr th {\n",
       "        vertical-align: top;\n",
       "    }\n",
       "\n",
       "    .dataframe thead th {\n",
       "        text-align: right;\n",
       "    }\n",
       "</style>\n",
       "<table border=\"1\" class=\"dataframe\">\n",
       "  <thead>\n",
       "    <tr style=\"text-align: right;\">\n",
       "      <th></th>\n",
       "      <th>Name</th>\n",
       "      <th>Last</th>\n",
       "      <th>Chg</th>\n",
       "      <th>Chg %</th>\n",
       "      <th>Chg_percent</th>\n",
       "    </tr>\n",
       "  </thead>\n",
       "  <tbody>\n",
       "    <tr>\n",
       "      <th>0</th>\n",
       "      <td>Dow Jones Industrial Average</td>\n",
       "      <td>33535.91</td>\n",
       "      <td>115.14</td>\n",
       "      <td>0.34%</td>\n",
       "      <td>0.34</td>\n",
       "    </tr>\n",
       "    <tr>\n",
       "      <th>1</th>\n",
       "      <td>NASDAQ Composite Index</td>\n",
       "      <td>12688.84</td>\n",
       "      <td>188.27</td>\n",
       "      <td>1.51%</td>\n",
       "      <td>1.51</td>\n",
       "    </tr>\n",
       "    <tr>\n",
       "      <th>2</th>\n",
       "      <td>S&amp;P 500 Index</td>\n",
       "      <td>4198.05</td>\n",
       "      <td>39.28</td>\n",
       "      <td>0.94%</td>\n",
       "      <td>0.94</td>\n",
       "    </tr>\n",
       "    <tr>\n",
       "      <th>3</th>\n",
       "      <td>Global Dow Realtime USD</td>\n",
       "      <td>3939.84</td>\n",
       "      <td>16.85</td>\n",
       "      <td>0.43%</td>\n",
       "      <td>0.43</td>\n",
       "    </tr>\n",
       "    <tr>\n",
       "      <th>4</th>\n",
       "      <td>Gold Continuous Contract</td>\n",
       "      <td>$1,959.80</td>\n",
       "      <td>-25.10</td>\n",
       "      <td>-1.26%</td>\n",
       "      <td>-1.26</td>\n",
       "    </tr>\n",
       "    <tr>\n",
       "      <th>5</th>\n",
       "      <td>Crude Oil WTI (NYM $/bbl) Front Month</td>\n",
       "      <td>$72.00</td>\n",
       "      <td>-0.83</td>\n",
       "      <td>-1.14%</td>\n",
       "      <td>-1.14</td>\n",
       "    </tr>\n",
       "  </tbody>\n",
       "</table>\n",
       "</div>"
      ],
      "text/plain": [
       "                                    Name       Last     Chg   Chg %   \n",
       "0           Dow Jones Industrial Average   33535.91  115.14   0.34%  \\\n",
       "1                 NASDAQ Composite Index   12688.84  188.27   1.51%   \n",
       "2                          S&P 500 Index    4198.05   39.28   0.94%   \n",
       "3                Global Dow Realtime USD    3939.84   16.85   0.43%   \n",
       "4               Gold Continuous Contract  $1,959.80  -25.10  -1.26%   \n",
       "5  Crude Oil WTI (NYM $/bbl) Front Month     $72.00   -0.83  -1.14%   \n",
       "\n",
       "   Chg_percent  \n",
       "0         0.34  \n",
       "1         1.51  \n",
       "2         0.94  \n",
       "3         0.43  \n",
       "4        -1.26  \n",
       "5        -1.14  "
      ]
     },
     "execution_count": 132,
     "metadata": {},
     "output_type": "execute_result"
    }
   ],
   "source": [
    "# Changing the str type col to int col for ease of plotting\n",
    "df[\"Chg %\"]=df[\"Chg %\"].astype(str)\n",
    "for i in range(len(df)):\n",
    "    a=df.iloc[i,3]\n",
    "    df.loc[i,\"Chg_percent\"]=a[0:-1]\n",
    "df[\"Chg_percent\"]=df[\"Chg_percent\"].astype(float)\n",
    "df"
   ]
  },
  {
   "cell_type": "code",
   "execution_count": 138,
   "metadata": {},
   "outputs": [
    {
     "data": {
      "text/plain": [
       "Text(0.5, 1.0, 'The Change in Major Global indexes Today')"
      ]
     },
     "execution_count": 138,
     "metadata": {},
     "output_type": "execute_result"
    },
    {
     "data": {
      "image/png": "[encoded data removed]",
      "text/plain": [
       "<Figure size 640x480 with 1 Axes>"
      ]
     },
     "metadata": {},
     "output_type": "display_data"
    }
   ],
   "source": [
    "#lets chart the change %\n",
    "\n",
    "import matplotlib.pyplot as plt\n",
    "fig, ax = plt.subplots()\n",
    "ax.barh(df.Name,df[\"Chg_percent\"])\n",
    "for i, v in enumerate(df[\"Chg_percent\"]):\n",
    "    ax.text(v, i + .25, str(v), color='blue', fontweight='bold')\n",
    "ax.grid()\n",
    "plt.title(\"The Change in Major Global indexes Today\")"
   ]
  },
  {
   "cell_type": "code",
   "execution_count": null,
   "metadata": {},
   "outputs": [],
   "source": []
  }
 ],
 "metadata": {
  "kernelspec": {
   "display_name": "Python 3",
   "language": "python",
   "name": "python3"
  },
  "language_info": {
   "codemirror_mode": {
    "name": "ipython",
    "version": 3
   },
   "file_extension": ".py",
   "mimetype": "text/x-python",
   "name": "python",
   "nbconvert_exporter": "python",
   "pygments_lexer": "ipython3",
   "version": "3.11.3"
  },
  "orig_nbformat": 4
 },
 "nbformat": 4,
 "nbformat_minor": 2
}
